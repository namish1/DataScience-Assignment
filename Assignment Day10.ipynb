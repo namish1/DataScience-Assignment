{
 "cells": [
  {
   "cell_type": "markdown",
   "metadata": {},
   "source": [
    "#Pandas Assignment"
   ]
  },
  {
   "cell_type": "code",
   "execution_count": 2,
   "metadata": {},
   "outputs": [],
   "source": [
    "#How to import pandas and check the version?\n",
    "import pandas as pd"
   ]
  },
  {
   "cell_type": "code",
   "execution_count": 3,
   "metadata": {},
   "outputs": [
    {
     "name": "stderr",
     "output_type": "stream",
     "text": [
      "C:\\ProgramData\\Anaconda3\\lib\\site-packages\\setuptools\\distutils_patch.py:25: UserWarning: Distutils was imported before Setuptools. This usage is discouraged and may exhibit undesirable behaviors or errors. Please use Setuptools' objects directly or at least import Setuptools first.\n",
      "  warnings.warn(\n"
     ]
    },
    {
     "name": "stdout",
     "output_type": "stream",
     "text": [
      "\n",
      "INSTALLED VERSIONS\n",
      "------------------\n",
      "commit           : None\n",
      "python           : 3.8.3.final.0\n",
      "python-bits      : 64\n",
      "OS               : Windows\n",
      "OS-release       : 10\n",
      "machine          : AMD64\n",
      "processor        : Intel64 Family 6 Model 126 Stepping 5, GenuineIntel\n",
      "byteorder        : little\n",
      "LC_ALL           : None\n",
      "LANG             : None\n",
      "LOCALE           : English_India.1252\n",
      "\n",
      "pandas           : 1.0.5\n",
      "numpy            : 1.18.5\n",
      "pytz             : 2020.1\n",
      "dateutil         : 2.8.1\n",
      "pip              : 20.1.1\n",
      "setuptools       : 49.2.0.post20200714\n",
      "Cython           : 0.29.21\n",
      "pytest           : 5.4.3\n",
      "hypothesis       : None\n",
      "sphinx           : 3.1.2\n",
      "blosc            : None\n",
      "feather          : None\n",
      "xlsxwriter       : 1.2.9\n",
      "lxml.etree       : 4.5.2\n",
      "html5lib         : 1.1\n",
      "pymysql          : None\n",
      "psycopg2         : None\n",
      "jinja2           : 2.11.2\n",
      "IPython          : 7.16.1\n",
      "pandas_datareader: None\n",
      "bs4              : 4.9.1\n",
      "bottleneck       : 1.3.2\n",
      "fastparquet      : None\n",
      "gcsfs            : None\n",
      "lxml.etree       : 4.5.2\n",
      "matplotlib       : 3.2.2\n",
      "numexpr          : 2.7.1\n",
      "odfpy            : None\n",
      "openpyxl         : 3.0.4\n",
      "pandas_gbq       : None\n",
      "pyarrow          : None\n",
      "pytables         : None\n",
      "pytest           : 5.4.3\n",
      "pyxlsb           : None\n",
      "s3fs             : None\n",
      "scipy            : 1.5.0\n",
      "sqlalchemy       : 1.3.18\n",
      "tables           : 3.6.1\n",
      "tabulate         : None\n",
      "xarray           : None\n",
      "xlrd             : 1.2.0\n",
      "xlwt             : 1.3.0\n",
      "xlsxwriter       : 1.2.9\n",
      "numba            : 0.50.1\n"
     ]
    }
   ],
   "source": [
    "pd.show_versions()"
   ]
  },
  {
   "cell_type": "code",
   "execution_count": 4,
   "metadata": {},
   "outputs": [],
   "source": [
    "#How to convert the index of a series into a column of a dataframe?\n",
    "import pandas as pd"
   ]
  },
  {
   "cell_type": "code",
   "execution_count": 6,
   "metadata": {},
   "outputs": [
    {
     "data": {
      "text/html": [
       "<div>\n",
       "<style scoped>\n",
       "    .dataframe tbody tr th:only-of-type {\n",
       "        vertical-align: middle;\n",
       "    }\n",
       "\n",
       "    .dataframe tbody tr th {\n",
       "        vertical-align: top;\n",
       "    }\n",
       "\n",
       "    .dataframe thead th {\n",
       "        text-align: right;\n",
       "    }\n",
       "</style>\n",
       "<table border=\"1\" class=\"dataframe\">\n",
       "  <thead>\n",
       "    <tr style=\"text-align: right;\">\n",
       "      <th></th>\n",
       "      <th>Roll Number</th>\n",
       "      <th>Name</th>\n",
       "      <th>Marks In Percentage</th>\n",
       "      <th>Grade</th>\n",
       "      <th>Subject</th>\n",
       "    </tr>\n",
       "  </thead>\n",
       "  <tbody>\n",
       "    <tr>\n",
       "      <th>0</th>\n",
       "      <td>20CSE29</td>\n",
       "      <td>Amelia</td>\n",
       "      <td>97</td>\n",
       "      <td>A</td>\n",
       "      <td>Physics</td>\n",
       "    </tr>\n",
       "    <tr>\n",
       "      <th>1</th>\n",
       "      <td>20CSE49</td>\n",
       "      <td>Sam</td>\n",
       "      <td>90</td>\n",
       "      <td>A</td>\n",
       "      <td>Physics</td>\n",
       "    </tr>\n",
       "    <tr>\n",
       "      <th>2</th>\n",
       "      <td>20CSE36</td>\n",
       "      <td>Dean</td>\n",
       "      <td>70</td>\n",
       "      <td>C</td>\n",
       "      <td>Physics</td>\n",
       "    </tr>\n",
       "    <tr>\n",
       "      <th>3</th>\n",
       "      <td>20CSE44</td>\n",
       "      <td>Jessica</td>\n",
       "      <td>82</td>\n",
       "      <td>B</td>\n",
       "      <td>Physics</td>\n",
       "    </tr>\n",
       "  </tbody>\n",
       "</table>\n",
       "</div>"
      ],
      "text/plain": [
       "  Roll Number     Name  Marks In Percentage Grade  Subject\n",
       "0     20CSE29   Amelia                   97     A  Physics\n",
       "1     20CSE49      Sam                   90     A  Physics\n",
       "2     20CSE36     Dean                   70     C  Physics\n",
       "3     20CSE44  Jessica                   82     B  Physics"
      ]
     },
     "execution_count": 6,
     "metadata": {},
     "output_type": "execute_result"
    }
   ],
   "source": [
    "df = pd.DataFrame({'Roll Number': ['20CSE29', '20CSE49', '20CSE36', '20CSE44'], \n",
    "                   'Name': ['Amelia', 'Sam', 'Dean', 'Jessica'], \n",
    "                   'Marks In Percentage': [97, 90, 70, 82], \n",
    "                   'Grade': ['A', 'A', 'C', 'B'], \n",
    "                   'Subject': ['Physics', 'Physics', 'Physics', 'Physics']}) \n",
    "df\n",
    "   "
   ]
  },
  {
   "cell_type": "code",
   "execution_count": 7,
   "metadata": {},
   "outputs": [],
   "source": [
    "#How to combine many series to form a dataframe?\n",
    "import pandas as pd"
   ]
  },
  {
   "cell_type": "code",
   "execution_count": 8,
   "metadata": {},
   "outputs": [
    {
     "data": {
      "text/html": [
       "<div>\n",
       "<style scoped>\n",
       "    .dataframe tbody tr th:only-of-type {\n",
       "        vertical-align: middle;\n",
       "    }\n",
       "\n",
       "    .dataframe tbody tr th {\n",
       "        vertical-align: top;\n",
       "    }\n",
       "\n",
       "    .dataframe thead th {\n",
       "        text-align: right;\n",
       "    }\n",
       "</style>\n",
       "<table border=\"1\" class=\"dataframe\">\n",
       "  <thead>\n",
       "    <tr style=\"text-align: right;\">\n",
       "      <th></th>\n",
       "      <th>0</th>\n",
       "    </tr>\n",
       "  </thead>\n",
       "  <tbody>\n",
       "    <tr>\n",
       "      <th>0</th>\n",
       "      <td>ABC</td>\n",
       "    </tr>\n",
       "    <tr>\n",
       "      <th>1</th>\n",
       "      <td>DEF</td>\n",
       "    </tr>\n",
       "    <tr>\n",
       "      <th>2</th>\n",
       "      <td>GHI</td>\n",
       "    </tr>\n",
       "    <tr>\n",
       "      <th>3</th>\n",
       "      <td>JKL</td>\n",
       "    </tr>\n",
       "    <tr>\n",
       "      <th>4</th>\n",
       "      <td>MNO</td>\n",
       "    </tr>\n",
       "    <tr>\n",
       "      <th>5</th>\n",
       "      <td>PQR</td>\n",
       "    </tr>\n",
       "  </tbody>\n",
       "</table>\n",
       "</div>"
      ],
      "text/plain": [
       "     0\n",
       "0  ABC\n",
       "1  DEF\n",
       "2  GHI\n",
       "3  JKL\n",
       "4  MNO\n",
       "5  PQR"
      ]
     },
     "execution_count": 8,
     "metadata": {},
     "output_type": "execute_result"
    }
   ],
   "source": [
    "\n",
    "a = pd.Series([\"ABC\", \"DEF\",  \n",
    "               \"GHI\"]) \n",
    "  \n",
    "\n",
    "b = pd.Series([\"JKL\", \"MNO\",  \n",
    "               \"PQR\"]) \n",
    "  \n",
    "\n",
    "df = pd.DataFrame(a.append(b,  \n",
    "                  ignore_index = True)) \n",
    "\n",
    "df"
   ]
  },
  {
   "cell_type": "code",
   "execution_count": 9,
   "metadata": {},
   "outputs": [],
   "source": [
    "#How to assign a name to the series index?\n",
    "import pandas as pd"
   ]
  },
  {
   "cell_type": "code",
   "execution_count": 11,
   "metadata": {},
   "outputs": [
    {
     "name": "stdout",
     "output_type": "stream",
     "text": [
      "maharashtra    10\n",
      "pune           25\n",
      "yerwada         3\n",
      "dhanori        11\n",
      "wagholi        24\n",
      "lohegaon        6\n",
      "dtype: int64\n"
     ]
    }
   ],
   "source": [
    " \n",
    "sr = pd.Series([10, 25, 3, 11, 24, 6]) \n",
    "  \n",
    "\n",
    "index_ = ['maharashtra', 'pune', 'yerwada', 'dhanori', 'wagholi', 'lohegaon'] \n",
    "  \n",
    "\n",
    "sr.index = index_ \n",
    "  \n",
    "\n",
    "print(sr) "
   ]
  },
  {
   "cell_type": "code",
   "execution_count": 12,
   "metadata": {},
   "outputs": [],
   "source": [
    "#How to get the minimum, 25th percentile, median, 75th, and max of a numeric series?\n",
    "import pandas as pd\n",
    "import numpy as np"
   ]
  },
  {
   "cell_type": "code",
   "execution_count": 15,
   "metadata": {},
   "outputs": [],
   "source": [
    "state = np.random.RandomState(100)\n",
    "ser = pd.Series(state.normal(10, 5, 25))"
   ]
  },
  {
   "cell_type": "code",
   "execution_count": 16,
   "metadata": {},
   "outputs": [
    {
     "data": {
      "text/plain": [
       "count    25.000000\n",
       "mean     10.435437\n",
       "std       4.253118\n",
       "min       1.251173\n",
       "25%       7.709865\n",
       "50%      10.922593\n",
       "75%      13.363604\n",
       "max      18.094908\n",
       "dtype: float64"
      ]
     },
     "execution_count": 16,
     "metadata": {},
     "output_type": "execute_result"
    }
   ],
   "source": [
    "ser.describe()"
   ]
  },
  {
   "cell_type": "code",
   "execution_count": 17,
   "metadata": {},
   "outputs": [],
   "source": [
    "#What is qcut() in Pandas?\n",
    "import pandas as pd"
   ]
  },
  {
   "cell_type": "code",
   "execution_count": null,
   "metadata": {},
   "outputs": [],
   "source": [
    "#Qcut (quantile-cut) differs from cut in the sense that, in qcut, the number of elements in each bin will be roughly the same, but this will come at the cost of differently sized interval widths. On the other hand, in cut, the bin edges were equal sized (when we specified bins=3) with uneven number of elements in each bin or group. Also, cut is useful when you know for sure the interval ranges and the bins"
   ]
  },
  {
   "cell_type": "code",
   "execution_count": 18,
   "metadata": {},
   "outputs": [],
   "source": [
    "#How to find the positions of numbers that are multiples of 3 from a series?\n",
    "import pandas as pd"
   ]
  },
  {
   "cell_type": "code",
   "execution_count": 19,
   "metadata": {},
   "outputs": [
    {
     "data": {
      "text/plain": [
       "0    4\n",
       "1    1\n",
       "2    4\n",
       "3    1\n",
       "4    2\n",
       "5    1\n",
       "6    3\n",
       "7    2\n",
       "8    3\n",
       "9    1\n",
       "dtype: int32"
      ]
     },
     "execution_count": 19,
     "metadata": {},
     "output_type": "execute_result"
    }
   ],
   "source": [
    "np.random.RandomState(100)\n",
    "ser = pd.Series(np.random.randint(1, 5, 10))\n",
    "ser"
   ]
  },
  {
   "cell_type": "code",
   "execution_count": 20,
   "metadata": {},
   "outputs": [],
   "source": [
    "#How to stack two series vertically and horizontally ?\n",
    "import pandas as pd"
   ]
  },
  {
   "cell_type": "code",
   "execution_count": null,
   "metadata": {},
   "outputs": [],
   "source": [
    "#Stacking Horizontally : We can stack 2 Pandas series horizontally by passing them in the pandas.concat() with the parameter axis = 1."
   ]
  },
  {
   "cell_type": "code",
   "execution_count": 21,
   "metadata": {},
   "outputs": [
    {
     "name": "stdout",
     "output_type": "stream",
     "text": [
      "Series 1:\n",
      "0    g\n",
      "1    e\n",
      "2    e\n",
      "3    k\n",
      "4    s\n",
      "dtype: object\n",
      "Series 2:\n",
      "0    9\n",
      "1    8\n",
      "2    7\n",
      "3    6\n",
      "4    5\n",
      "dtype: int64\n",
      "\n",
      "Stack two series horizontally:\n"
     ]
    },
    {
     "data": {
      "text/html": [
       "<div>\n",
       "<style scoped>\n",
       "    .dataframe tbody tr th:only-of-type {\n",
       "        vertical-align: middle;\n",
       "    }\n",
       "\n",
       "    .dataframe tbody tr th {\n",
       "        vertical-align: top;\n",
       "    }\n",
       "\n",
       "    .dataframe thead th {\n",
       "        text-align: right;\n",
       "    }\n",
       "</style>\n",
       "<table border=\"1\" class=\"dataframe\">\n",
       "  <thead>\n",
       "    <tr style=\"text-align: right;\">\n",
       "      <th></th>\n",
       "      <th>0</th>\n",
       "      <th>1</th>\n",
       "    </tr>\n",
       "  </thead>\n",
       "  <tbody>\n",
       "    <tr>\n",
       "      <th>0</th>\n",
       "      <td>g</td>\n",
       "      <td>9</td>\n",
       "    </tr>\n",
       "    <tr>\n",
       "      <th>1</th>\n",
       "      <td>e</td>\n",
       "      <td>8</td>\n",
       "    </tr>\n",
       "    <tr>\n",
       "      <th>2</th>\n",
       "      <td>e</td>\n",
       "      <td>7</td>\n",
       "    </tr>\n",
       "    <tr>\n",
       "      <th>3</th>\n",
       "      <td>k</td>\n",
       "      <td>6</td>\n",
       "    </tr>\n",
       "    <tr>\n",
       "      <th>4</th>\n",
       "      <td>s</td>\n",
       "      <td>5</td>\n",
       "    </tr>\n",
       "  </tbody>\n",
       "</table>\n",
       "</div>"
      ],
      "text/plain": [
       "   0  1\n",
       "0  g  9\n",
       "1  e  8\n",
       "2  e  7\n",
       "3  k  6\n",
       "4  s  5"
      ]
     },
     "metadata": {},
     "output_type": "display_data"
    }
   ],
   "source": [
    "series1 = pd.Series(['g', 'e', 'e', 'k', 's']) \n",
    "print(\"Series 1:\") \n",
    "print(series1) \n",
    "series2 = pd.Series([9, 8, 7, 6, 5]) \n",
    "print(\"Series 2:\") \n",
    "print(series2) \n",
    "   \n",
    "# stacking the series horizontally \n",
    "df = pd.concat([series1, series2], axis = 1) \n",
    "print(\"\\nStack two series horizontally:\") \n",
    "display(df) "
   ]
  },
  {
   "cell_type": "code",
   "execution_count": null,
   "metadata": {},
   "outputs": [],
   "source": [
    "#Stacking Vertically : We can stack 2 Pandas series vertically by passing them in the pandas.concat() with the parameter axis = 0."
   ]
  },
  {
   "cell_type": "code",
   "execution_count": 22,
   "metadata": {},
   "outputs": [
    {
     "name": "stdout",
     "output_type": "stream",
     "text": [
      "Series 1:\n",
      "0    g\n",
      "1    e\n",
      "2    e\n",
      "3    k\n",
      "4    s\n",
      "dtype: object\n",
      "Series 2:\n",
      "0    9\n",
      "1    8\n",
      "2    7\n",
      "3    6\n",
      "4    5\n",
      "dtype: int64\n",
      "\n",
      "Stack two series vertically:\n"
     ]
    },
    {
     "data": {
      "text/plain": [
       "0    g\n",
       "1    e\n",
       "2    e\n",
       "3    k\n",
       "4    s\n",
       "0    9\n",
       "1    8\n",
       "2    7\n",
       "3    6\n",
       "4    5\n",
       "dtype: object"
      ]
     },
     "metadata": {},
     "output_type": "display_data"
    }
   ],
   "source": [
    "series1 = pd.Series(['g', 'e', 'e', 'k', 's']) \n",
    "print(\"Series 1:\") \n",
    "print(series1) \n",
    "series2 = pd.Series([9, 8, 7, 6, 5]) \n",
    "print(\"Series 2:\") \n",
    "print(series2) \n",
    "   \n",
    "# stacking the series vertically \n",
    "df = pd.concat([series1, series2], axis = 0) \n",
    "print(\"\\nStack two series vertically:\") \n",
    "display(df) "
   ]
  },
  {
   "cell_type": "code",
   "execution_count": 23,
   "metadata": {},
   "outputs": [],
   "source": [
    "#How to get the day of month, week number, day of year and day of week from a series of date strings?\n",
    "import pandas as pd"
   ]
  },
  {
   "cell_type": "code",
   "execution_count": 25,
   "metadata": {},
   "outputs": [
    {
     "name": "stdout",
     "output_type": "stream",
     "text": [
      "Original Series:\n",
      "0         01 Jan 2015\n",
      "1          10-02-2016\n",
      "2            20180307\n",
      "3          2014/05/06\n",
      "4          2016-04-12\n",
      "5    2019-04-06T11:20\n",
      "dtype: object\n",
      "Day of month:\n",
      "[1, 2, 7, 6, 12, 6]\n",
      "Day of year:\n",
      "[1, 276, 66, 126, 103, 96]\n",
      "Week number:\n",
      "[1, 39, 10, 19, 15, 14]\n",
      "Day of week:\n"
     ]
    },
    {
     "ename": "AttributeError",
     "evalue": "'DatetimeProperties' object has no attribute 'weekday_name'",
     "output_type": "error",
     "traceback": [
      "\u001b[1;31m---------------------------------------------------------------------------\u001b[0m",
      "\u001b[1;31mAttributeError\u001b[0m                            Traceback (most recent call last)",
      "\u001b[1;32m<ipython-input-25-139c3f5d655d>\u001b[0m in \u001b[0;36m<module>\u001b[1;34m\u001b[0m\n\u001b[0;32m     12\u001b[0m \u001b[0mprint\u001b[0m\u001b[1;33m(\u001b[0m\u001b[0mdate_series\u001b[0m\u001b[1;33m.\u001b[0m\u001b[0mdt\u001b[0m\u001b[1;33m.\u001b[0m\u001b[0mweekofyear\u001b[0m\u001b[1;33m.\u001b[0m\u001b[0mtolist\u001b[0m\u001b[1;33m(\u001b[0m\u001b[1;33m)\u001b[0m\u001b[1;33m)\u001b[0m\u001b[1;33m\u001b[0m\u001b[1;33m\u001b[0m\u001b[0m\n\u001b[0;32m     13\u001b[0m \u001b[0mprint\u001b[0m\u001b[1;33m(\u001b[0m\u001b[1;34m\"Day of week:\"\u001b[0m\u001b[1;33m)\u001b[0m\u001b[1;33m\u001b[0m\u001b[1;33m\u001b[0m\u001b[0m\n\u001b[1;32m---> 14\u001b[1;33m \u001b[0mprint\u001b[0m\u001b[1;33m(\u001b[0m\u001b[0mdate_series\u001b[0m\u001b[1;33m.\u001b[0m\u001b[0mdt\u001b[0m\u001b[1;33m.\u001b[0m\u001b[0mweekday_name\u001b[0m\u001b[1;33m.\u001b[0m\u001b[0mtolist\u001b[0m\u001b[1;33m(\u001b[0m\u001b[1;33m)\u001b[0m\u001b[1;33m)\u001b[0m\u001b[1;33m\u001b[0m\u001b[1;33m\u001b[0m\u001b[0m\n\u001b[0m",
      "\u001b[1;31mAttributeError\u001b[0m: 'DatetimeProperties' object has no attribute 'weekday_name'"
     ]
    }
   ],
   "source": [
    "import pandas as pd\n",
    "from dateutil.parser import parse\n",
    "date_series = pd.Series(['01 Jan 2015', '10-02-2016', '20180307', '2014/05/06', '2016-04-12', '2019-04-06T11:20'])\n",
    "print(\"Original Series:\")\n",
    "print(date_series)\n",
    "date_series = date_series.map(lambda x: parse(x))\n",
    "print(\"Day of month:\")\n",
    "print(date_series.dt.day.tolist())\n",
    "print(\"Day of year:\")\n",
    "print(date_series.dt.dayofyear.tolist())\n",
    "print(\"Week number:\")\n",
    "print(date_series.dt.weekofyear.tolist())\n",
    "print(\"Day of week:\")\n",
    "print(date_series.dt.weekday_name.tolist())\n"
   ]
  },
  {
   "cell_type": "code",
   "execution_count": 27,
   "metadata": {},
   "outputs": [],
   "source": [
    "#How to compute the euclidean distance between two series?\n",
    "import pandas as pd\n",
    "import numpy as np"
   ]
  },
  {
   "cell_type": "code",
   "execution_count": 28,
   "metadata": {},
   "outputs": [
    {
     "name": "stdout",
     "output_type": "stream",
     "text": [
      "Series 1: 0    1\n",
      "1    2\n",
      "2    3\n",
      "3    4\n",
      "4    5\n",
      "dtype: int64\n",
      "Series 2: 0     6\n",
      "1     7\n",
      "2     8\n",
      "3     9\n",
      "4    10\n",
      "dtype: int64\n",
      "Euclidean distance between two series is: 11.180339887498949\n"
     ]
    }
   ],
   "source": [
    "x = pd.Series([1, 2, 3, 4, 5]) \n",
    "y = pd.Series([6, 7, 8, 9, 10]) \n",
    "  \n",
    "# here we are computing every thing \n",
    "# step by step \n",
    "p1 = np.sum([(a * a) for a in x]) \n",
    "p2 = np.sum([(b * b) for b in y]) \n",
    "  \n",
    "# using zip() function to create an \n",
    "# iterator which aggregates elements  \n",
    "# from two or more iterables \n",
    "p3 = -1 * np.sum([(2 * a*b) for (a, b) in zip(x, y)]) \n",
    "dist = np.sqrt(np.sum(p1 + p2 + p3)) \n",
    "  \n",
    "print(\"Series 1:\", x) \n",
    "print(\"Series 2:\", y) \n",
    "print(\"Euclidean distance between two series is:\", dist) "
   ]
  },
  {
   "cell_type": "code",
   "execution_count": 29,
   "metadata": {},
   "outputs": [],
   "source": [
    "#How to use apply function on existing columns?\n",
    "import pandas as pd \n",
    "import numpy as np "
   ]
  },
  {
   "cell_type": "code",
   "execution_count": 30,
   "metadata": {},
   "outputs": [
    {
     "data": {
      "text/html": [
       "<div>\n",
       "<style scoped>\n",
       "    .dataframe tbody tr th:only-of-type {\n",
       "        vertical-align: middle;\n",
       "    }\n",
       "\n",
       "    .dataframe tbody tr th {\n",
       "        vertical-align: top;\n",
       "    }\n",
       "\n",
       "    .dataframe thead th {\n",
       "        text-align: right;\n",
       "    }\n",
       "</style>\n",
       "<table border=\"1\" class=\"dataframe\">\n",
       "  <thead>\n",
       "    <tr style=\"text-align: right;\">\n",
       "      <th></th>\n",
       "      <th>x</th>\n",
       "      <th>y</th>\n",
       "      <th>z</th>\n",
       "    </tr>\n",
       "  </thead>\n",
       "  <tbody>\n",
       "    <tr>\n",
       "      <th>a</th>\n",
       "      <td>1</td>\n",
       "      <td>2</td>\n",
       "      <td>9</td>\n",
       "    </tr>\n",
       "    <tr>\n",
       "      <th>b</th>\n",
       "      <td>4</td>\n",
       "      <td>5</td>\n",
       "      <td>36</td>\n",
       "    </tr>\n",
       "    <tr>\n",
       "      <th>c</th>\n",
       "      <td>7</td>\n",
       "      <td>8</td>\n",
       "      <td>81</td>\n",
       "    </tr>\n",
       "  </tbody>\n",
       "</table>\n",
       "</div>"
      ],
      "text/plain": [
       "   x  y   z\n",
       "a  1  2   9\n",
       "b  4  5  36\n",
       "c  7  8  81"
      ]
     },
     "execution_count": 30,
     "metadata": {},
     "output_type": "execute_result"
    }
   ],
   "source": [
    "# List of Tuples \n",
    "matrix = [(1, 2, 3), \n",
    "          (4, 5, 6), \n",
    "          (7, 8, 9) \n",
    "         ] \n",
    "  \n",
    "# Create a DataFrame object \n",
    "df = pd.DataFrame(matrix, columns = list('xyz'),  \n",
    "                  index = list('abc')) \n",
    "  \n",
    "# Apply function numpy.square() to lambda \n",
    "# to find the squares of the values of  \n",
    "# column whose column name is 'z' \n",
    "new_df = df.apply(lambda x: np.square(x) if x.name == 'z' else x) \n",
    "  \n",
    "# Output \n",
    "new_df "
   ]
  },
  {
   "cell_type": "code",
   "execution_count": null,
   "metadata": {},
   "outputs": [],
   "source": []
  }
 ],
 "metadata": {
  "kernelspec": {
   "display_name": "Python 3",
   "language": "python",
   "name": "python3"
  },
  "language_info": {
   "codemirror_mode": {
    "name": "ipython",
    "version": 3
   },
   "file_extension": ".py",
   "mimetype": "text/x-python",
   "name": "python",
   "nbconvert_exporter": "python",
   "pygments_lexer": "ipython3",
   "version": "3.8.3"
  }
 },
 "nbformat": 4,
 "nbformat_minor": 4
}
